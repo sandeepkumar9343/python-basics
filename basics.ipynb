{
 "metadata": {
  "language_info": {
   "codemirror_mode": {
    "name": "ipython",
    "version": 3
   },
   "file_extension": ".py",
   "mimetype": "text/x-python",
   "name": "python",
   "nbconvert_exporter": "python",
   "pygments_lexer": "ipython3",
   "version": "3.7.3-final"
  },
  "orig_nbformat": 2,
  "kernelspec": {
   "name": "python3",
   "display_name": "Python 3",
   "language": "python"
  }
 },
 "nbformat": 4,
 "nbformat_minor": 2,
 "cells": [
  {
   "cell_type": "code",
   "execution_count": null,
   "metadata": {},
   "outputs": [],
   "source": [
    "#Python Collections (Arrays):\n",
    "#There are four collection data types in the Python programming language:\n",
    "\n",
    "#'List' is a collection which is ordered and changeable. Allows duplicate members.\n",
    "   #Lists are used to store multiple items in a single variable.\n",
    "   #Lists are created using square brackets:\n",
    "#'Tuple' is a collection which is ordered and unchangeable. Allows duplicate members.\n",
    "   #Tuples are used to store multiple items in a single variable.\n",
    "   #A tuple is a collection which is ordered and unchangeable.\n",
    "#'Set' is a collection which is unordered and unindexed. No duplicate members.\n",
    "   #Sets are used to store multiple items in a single variable.\n",
    "   #A set is a collection which is both unordered and unindexed.\n",
    "#'Dictionary' is a collection which is unordered and changeable. No duplicate members.\n",
    "   # Dictionaries are used to store data values in key:value pairs.\n",
    "   # A dictionary is a collection which is unordered, changeable and does not allow duplicates."
   ]
  },
  {
   "cell_type": "code",
   "execution_count": null,
   "metadata": {},
   "outputs": [],
   "source": [
    "# LIST  example>> list = [1,2,3], mylist = [\"apple\", \"banana\", \"cherry\"]\n",
    "# tuple example>> tuple = (1,2,3), mytuple = (\"apple\", \"banana\", \"cherry\")\n",
    "# set example>>>  myset = {\"apple\", \"banana\", \"cherry\"} \n",
    "# Dictionary exp>> thisdict = {\"brand\": \"Ford\",\"model\": \"Mustang\",\"year\": 1964}"
   ]
  },
  {
   "cell_type": "code",
   "execution_count": 1,
   "metadata": {},
   "outputs": [
    {
     "output_type": "stream",
     "name": "stdout",
     "text": [
      "b is greater than a\n"
     ]
    }
   ],
   "source": [
    "#IF statement.\n",
    "a = 33\n",
    "b = 200\n",
    "\n",
    "if b>a:\n",
    "    print('b is greater than a')\n"
   ]
  },
  {
   "cell_type": "code",
   "execution_count": 2,
   "metadata": {},
   "outputs": [
    {
     "output_type": "stream",
     "name": "stdout",
     "text": [
      "both are equal\n"
     ]
    }
   ],
   "source": [
    "#Elif\n",
    "#The elif keyword is pythons way of saying \"if the previous conditions were not true, then try this condition\".\n",
    "\n",
    "a = 33\n",
    "b = 33\n",
    "if b>a:\n",
    "    print('b is greater than a')\n",
    "elif a == b:\n",
    "    print('both are equal')    "
   ]
  },
  {
   "cell_type": "code",
   "execution_count": null,
   "metadata": {},
   "outputs": [],
   "source": [
    "#ELSE\n",
    "\n",
    "a = 200\n",
    "b = 33\n",
    "if b > a:\n",
    "  print(\"b is greater than a\")\n",
    "elif a == b:\n",
    "  print(\"a and b are equal\")\n",
    "else:\n",
    "  print(\"a is greater than b\")"
   ]
  },
  {
   "cell_type": "code",
   "execution_count": 5,
   "metadata": {},
   "outputs": [
    {
     "output_type": "stream",
     "name": "stdout",
     "text": [
      "a is greater than b\n"
     ]
    }
   ],
   "source": [
    "#Short hand if\n",
    "a = 200\n",
    "b = 33\n",
    "if a > b: print(\"a is greater than b\")"
   ]
  },
  {
   "cell_type": "code",
   "execution_count": 6,
   "metadata": {},
   "outputs": [
    {
     "output_type": "stream",
     "name": "stdout",
     "text": [
      "Both conditions are True\n"
     ]
    }
   ],
   "source": [
    "a = 200\n",
    "b = 33\n",
    "c = 500\n",
    "if a > b and c > a:\n",
    "  print(\"Both conditions are True\")"
   ]
  },
  {
   "source": [
    "#NESTED if \n",
    "x = 41\n",
    "\n",
    "if x > 10:\n",
    "  print(\"Above ten,\")\n",
    "  if x > 20:\n",
    "    print(\"and also above 20!\")\n",
    "    if x > 30:\n",
    "      print('and also above 30!')\n",
    "  else:\n",
    "    print(\"but not above 20.\")"
   ],
   "cell_type": "code",
   "metadata": {},
   "execution_count": 8,
   "outputs": [
    {
     "output_type": "stream",
     "name": "stdout",
     "text": [
      "Above ten,\nand also above 20!\nand also above 30!\n"
     ]
    }
   ]
  },
  {
   "cell_type": "code",
   "execution_count": 9,
   "metadata": {},
   "outputs": [
    {
     "output_type": "stream",
     "name": "stdout",
     "text": [
      "1\n2\n3\n4\n5\n"
     ]
    }
   ],
   "source": [
    "#WHILE loops:\n",
    "#With the while loop we can execute a set of statements as long as a condition is true.\n",
    "#Print i as long as i is less than 6:\n",
    "\n",
    "i = 1\n",
    "while i < 6:\n",
    "    print(i)\n",
    "    i += 1 "
   ]
  },
  {
   "cell_type": "code",
   "execution_count": 10,
   "metadata": {},
   "outputs": [
    {
     "output_type": "stream",
     "name": "stdout",
     "text": [
      "1\n2\n3\n"
     ]
    }
   ],
   "source": [
    "#Break statement.\n",
    "#With the break statement we can stop the loop even if the while condition is true:\n",
    "i = 1\n",
    "while i < 6:\n",
    "  print(i)\n",
    "  if i == 3:\n",
    "    break\n",
    "  i += 1"
   ]
  },
  {
   "cell_type": "code",
   "execution_count": 18,
   "metadata": {},
   "outputs": [
    {
     "output_type": "stream",
     "name": "stdout",
     "text": [
      "1\n2\n4\n5\n6\n"
     ]
    }
   ],
   "source": [
    "#The continue Statement\n",
    "#With the continue statement we can stop the current iteration, and continue with the next:\n",
    "i = 0\n",
    "while i < 6:\n",
    "  i += 1\n",
    "  if i == 3:\n",
    "    continue\n",
    "  print(i)\n"
   ]
  },
  {
   "cell_type": "code",
   "execution_count": 19,
   "metadata": {},
   "outputs": [
    {
     "output_type": "stream",
     "name": "stdout",
     "text": [
      "1\n2\n3\n4\n5\ni is no longer less than 6\n"
     ]
    }
   ],
   "source": [
    "i = 1\n",
    "while i < 6:\n",
    "  print(i)\n",
    "  i += 1\n",
    "else:\n",
    "  print(\"i is no longer less than 6\")"
   ]
  },
  {
   "cell_type": "code",
   "execution_count": 21,
   "metadata": {},
   "outputs": [
    {
     "output_type": "stream",
     "name": "stdout",
     "text": [
      "apple\nbanana\ncherry\n"
     ]
    }
   ],
   "source": [
    "#For LOOPS\n",
    "#A for loop is used for iterating over a sequence (that is either a list, a tuple, a dictionary, a set, or a string).\n",
    "#print elements in fruits\n",
    "\n",
    "#creatig a list \n",
    "fruits=['apple','banana','cherry']\n",
    "for x in fruits:\n",
    "    print(x)"
   ]
  },
  {
   "cell_type": "code",
   "execution_count": 22,
   "metadata": {},
   "outputs": [
    {
     "output_type": "stream",
     "name": "stdout",
     "text": [
      "b\na\nn\na\nn\na\n"
     ]
    }
   ],
   "source": [
    "#looping through string.\n",
    "for x in 'banana':\n",
    "    print(x)    "
   ]
  },
  {
   "cell_type": "code",
   "execution_count": 23,
   "metadata": {},
   "outputs": [
    {
     "output_type": "stream",
     "name": "stdout",
     "text": [
      "apple\n"
     ]
    }
   ],
   "source": [
    "#print a element based on if statement.\n",
    "for x in fruits:\n",
    "    if x == 'apple':\n",
    "        print(x)  \n"
   ]
  },
  {
   "cell_type": "code",
   "execution_count": 24,
   "metadata": {},
   "outputs": [
    {
     "output_type": "stream",
     "name": "stdout",
     "text": [
      "apple\nbanana\n"
     ]
    }
   ],
   "source": [
    "#Break statement.\n",
    "#Exit the loop when x is \"banana\"\n",
    "for x in fruits:\n",
    "    print(x)\n",
    "    if x == 'banana':\n",
    "        break"
   ]
  },
  {
   "cell_type": "code",
   "execution_count": 25,
   "metadata": {},
   "outputs": [
    {
     "output_type": "stream",
     "name": "stdout",
     "text": [
      "apple\nbanana\n"
     ]
    }
   ],
   "source": [
    "#Exit the loop when x is \"cherry\", but this time the break comes before the print\n",
    "for x in fruits:\n",
    "    if x == 'cherry':\n",
    "        break\n",
    "    print(x)   \n"
   ]
  },
  {
   "cell_type": "code",
   "execution_count": 26,
   "metadata": {},
   "outputs": [
    {
     "output_type": "stream",
     "name": "stdout",
     "text": [
      "apple\ncherry\n"
     ]
    }
   ],
   "source": [
    "#Continue statement.\n",
    "#With the continue statement we can stop the current iteration of the loop, and continue with the next:\n",
    "for x in fruits:\n",
    "    if x == 'banana':\n",
    "         continue\n",
    "    print(x)    "
   ]
  },
  {
   "cell_type": "code",
   "execution_count": 27,
   "metadata": {},
   "outputs": [
    {
     "output_type": "stream",
     "name": "stdout",
     "text": [
      "0\n1\n2\n3\n4\n5\nFinally finished!\n"
     ]
    }
   ],
   "source": [
    "#range()\n",
    "for x in range(6):\n",
    "  print(x)\n",
    "else:\n",
    "  print(\"Finally finished!\")"
   ]
  },
  {
   "cell_type": "code",
   "execution_count": 28,
   "metadata": {},
   "outputs": [
    {
     "output_type": "stream",
     "name": "stdout",
     "text": [
      "red apple\nred banana\nred cherry\nbig apple\nbig banana\nbig cherry\ntasty apple\ntasty banana\ntasty cherry\n"
     ]
    }
   ],
   "source": [
    "#Double for loops\n",
    "adj = [\"red\", \"big\", \"tasty\"]\n",
    "fruits = [\"apple\", \"banana\", \"cherry\"]\n",
    "\n",
    "for x in adj:\n",
    "  for y in fruits:\n",
    "    print(x, y)"
   ]
  },
  {
   "cell_type": "code",
   "execution_count": 1,
   "metadata": {},
   "outputs": [
    {
     "output_type": "stream",
     "name": "stdout",
     "text": [
      "2\n3\n4\n5\n"
     ]
    }
   ],
   "source": [
    "for x in range(2,6):\n",
    "    print(x)"
   ]
  },
  {
   "cell_type": "code",
   "execution_count": 2,
   "metadata": {},
   "outputs": [
    {
     "output_type": "stream",
     "name": "stdout",
     "text": [
      "2\n5\n8\n11\n14\n17\n20\n23\n26\n29\n"
     ]
    }
   ],
   "source": [
    "for x in range(2,30,3):\n",
    "    print(x)"
   ]
  },
  {
   "cell_type": "code",
   "execution_count": null,
   "metadata": {},
   "outputs": [],
   "source": [
    "#Else in for loop.\n",
    "for x in range(6):\n",
    "  print(x)\n",
    "else:\n",
    "  print(\"Finally finished!\")"
   ]
  },
  {
   "cell_type": "code",
   "execution_count": 4,
   "metadata": {},
   "outputs": [
    {
     "output_type": "stream",
     "name": "stdout",
     "text": [
      "Hello from a function\n"
     ]
    }
   ],
   "source": [
    "#Functions:\n",
    "#A function is a block of code which only runs when it is called.\n",
    "#You can pass data, known as parameters, into a function.\n",
    "def my_function():\n",
    "  print(\"Hello from a function\")\n",
    "\n",
    "#calling a function.\n",
    "my_function()  "
   ]
  },
  {
   "cell_type": "code",
   "execution_count": 1,
   "metadata": {},
   "outputs": [
    {
     "output_type": "stream",
     "name": "stdout",
     "text": [
      "Hello sandeep\n"
     ]
    }
   ],
   "source": [
    "#Arguments in function.\n",
    "#Information can be passed into functions as arguments.\n",
    "def my_func(name):\n",
    "    print(\"Hello \"+ name)\n",
    "\n",
    "my_func('sandeep')"
   ]
  },
  {
   "cell_type": "code",
   "execution_count": 2,
   "metadata": {},
   "outputs": [
    {
     "output_type": "stream",
     "name": "stdout",
     "text": [
      "The youngest child is sandeep\n"
     ]
    }
   ],
   "source": [
    "#If you do not know how many arguments that will be passed into your function, add a * before the parameter name in the function definition.\n",
    "\n",
    "def func(*kids):\n",
    "    print('The youngest child is ' + kids[2])\n",
    "\n",
    "func('naveen','dinesh','sandeep')    "
   ]
  },
  {
   "cell_type": "code",
   "execution_count": 3,
   "metadata": {},
   "outputs": [
    {
     "output_type": "stream",
     "name": "stdout",
     "text": [
      "His last name is Refsnes\n"
     ]
    }
   ],
   "source": [
    "#If you do not know how many keyword arguments that will be passed into your function, add two asterisk: ** before the parameter name in the function definition.\n",
    "def my_function(**kid):\n",
    "  print(\"His last name is \" + kid[\"lname\"])\n",
    "\n",
    "my_function(fname = \"Tobias\", lname = \"Refsnes\")"
   ]
  },
  {
   "cell_type": "code",
   "execution_count": 4,
   "metadata": {},
   "outputs": [
    {
     "output_type": "stream",
     "name": "stdout",
     "text": [
      "I am from Sweden\nI am from India\nI am from Norway\nI am from Brazil\n"
     ]
    }
   ],
   "source": [
    "#The following example shows how to use a default parameter value.\n",
    "def my_function(country = \"Norway\"):\n",
    "  print(\"I am from \" + country)\n",
    "\n",
    "my_function(\"Sweden\")\n",
    "my_function(\"India\")\n",
    "my_function()\n",
    "my_function(\"Brazil\")"
   ]
  },
  {
   "cell_type": "code",
   "execution_count": 5,
   "metadata": {},
   "outputs": [
    {
     "output_type": "stream",
     "name": "stdout",
     "text": [
      "apple\nbanana\ncherry\n"
     ]
    }
   ],
   "source": [
    "#Passing a List as an Argument\n",
    "def my_function(food):\n",
    "  for x in food:\n",
    "    print(x)\n",
    "\n",
    "fruits = [\"apple\", \"banana\", \"cherry\"]\n",
    "\n",
    "my_function(fruits)"
   ]
  },
  {
   "cell_type": "code",
   "execution_count": 6,
   "metadata": {},
   "outputs": [
    {
     "output_type": "stream",
     "name": "stdout",
     "text": [
      "15\n25\n45\n"
     ]
    }
   ],
   "source": [
    "def my_function(x):\n",
    "  return 5 * x\n",
    "\n",
    "print(my_function(3))\n",
    "print(my_function(5))\n",
    "print(my_function(9))"
   ]
  },
  {
   "cell_type": "code",
   "execution_count": 39,
   "metadata": {},
   "outputs": [
    {
     "output_type": "stream",
     "name": "stdout",
     "text": [
      "Sandeep\n22\nMy name is Sandeep and age is  22\n"
     ]
    }
   ],
   "source": [
    "#classes and objects. \n",
    "#creating a class called person. \n",
    "class Person:\n",
    "    def __init__(self,name,age):\n",
    "        #this class contains 2 variables called name and age.\n",
    "        self.name = name\n",
    "        self.age = age\n",
    "        \n",
    "        #creating a new function/Method to exicute print statement.\n",
    "    def my_func(self):\n",
    "        print('My name is ' + self.name,'and age is ',self.age)\n",
    "\n",
    "#creating object \"p1\",using class 'person'.\n",
    "p1 = Person('Sandeep',22)\n",
    "\n",
    "#accessing the variables in object and function.\n",
    "print(p1.name)\n",
    "print(p1.age)\n",
    "p1.my_func()"
   ]
  },
  {
   "cell_type": "code",
   "execution_count": 40,
   "metadata": {},
   "outputs": [],
   "source": [
    "p1.age = 23"
   ]
  },
  {
   "cell_type": "code",
   "execution_count": 41,
   "metadata": {},
   "outputs": [
    {
     "output_type": "stream",
     "name": "stdout",
     "text": [
      "23\n"
     ]
    }
   ],
   "source": [
    "print(p1.age)"
   ]
  },
  {
   "cell_type": "code",
   "execution_count": 42,
   "metadata": {},
   "outputs": [],
   "source": [
    "del p1.age"
   ]
  },
  {
   "cell_type": "code",
   "execution_count": 37,
   "metadata": {},
   "outputs": [
    {
     "output_type": "error",
     "ename": "AttributeError",
     "evalue": "'Person' object has no attribute 'age'",
     "traceback": [
      "\u001b[1;31m---------------------------------------------------------------------------\u001b[0m",
      "\u001b[1;31mAttributeError\u001b[0m                            Traceback (most recent call last)",
      "\u001b[1;32m<ipython-input-37-9506c9e80e91>\u001b[0m in \u001b[0;36m<module>\u001b[1;34m\u001b[0m\n\u001b[1;32m----> 1\u001b[1;33m \u001b[0mprint\u001b[0m\u001b[1;33m(\u001b[0m\u001b[0mp1\u001b[0m\u001b[1;33m.\u001b[0m\u001b[0mage\u001b[0m\u001b[1;33m)\u001b[0m\u001b[1;33m\u001b[0m\u001b[1;33m\u001b[0m\u001b[0m\n\u001b[0m",
      "\u001b[1;31mAttributeError\u001b[0m: 'Person' object has no attribute 'age'"
     ]
    }
   ],
   "source": [
    "print(p1.age)"
   ]
  },
  {
   "cell_type": "code",
   "execution_count": 43,
   "metadata": {},
   "outputs": [],
   "source": [
    "del p1"
   ]
  },
  {
   "cell_type": "code",
   "execution_count": 44,
   "metadata": {},
   "outputs": [
    {
     "output_type": "stream",
     "name": "stdout",
     "text": [
      "Naveen\nReddy\nNaveen Reddy\n"
     ]
    }
   ],
   "source": [
    "#INHERITANCE:\n",
    "#Inheritance allows us to define a class that inherits all the methods and properties from another class.\n",
    "#creating a parent class Person.\n",
    "class Person:\n",
    "    def __init__(self,fname,lname):\n",
    "        self.fname = fname\n",
    "        self.lname = lname\n",
    "    def printname(self):\n",
    "        print(self.fname,self.lname)\n",
    "\n",
    "x = Person('Naveen','Reddy')\n",
    "print(x.fname)\n",
    "print(x.lname)\n",
    "x.printname()    "
   ]
  },
  {
   "cell_type": "code",
   "execution_count": 47,
   "metadata": {},
   "outputs": [
    {
     "output_type": "stream",
     "name": "stdout",
     "text": [
      "Sandeep kumar\n"
     ]
    }
   ],
   "source": [
    "#inheriting the methods from parent class to child class. \n",
    "#creating Child class. \n",
    "class Student(Person):\n",
    "    pass\n",
    "a= Student('Sandeep','kumar')\n",
    "a.printname()"
   ]
  },
  {
   "cell_type": "code",
   "execution_count": 55,
   "metadata": {},
   "outputs": [
    {
     "output_type": "stream",
     "name": "stdout",
     "text": [
      "Mike Olsen\n2019\nWelcome Mike Olsen to the class of 2019\n"
     ]
    }
   ],
   "source": [
    "#When you add the __init__() function, the child class will no longer inherit the parent's __init__() function.\n",
    "#Note: The child's __init__() function overrides the inheritance of the parent's __init__() function.\n",
    "\n",
    "#To keep the inheritance of the parent's __init__() function, add a call to the parent's __init__() function:\n",
    "\n",
    "class Student(Person):\n",
    "    #defining child class init function. \n",
    "    def __init__(self,fname,lname,year):\n",
    "        super().__init__(fname,lname)\n",
    "        self.graduationyear = year \n",
    "\n",
    "    #adding a welcome function to child class.     \n",
    "    def welcome(self):\n",
    "        print('Welcome',self.fname,self.lname,'to the class of',self.graduationyear)        \n",
    "\n",
    "#creating a object. \n",
    "x = Student(\"Mike\", \"Olsen\",2019)\n",
    "x.printname()\n",
    "print(x.graduationyear)\n",
    "x.welcome()"
   ]
  },
  {
   "cell_type": "code",
   "execution_count": 64,
   "metadata": {},
   "outputs": [
    {
     "output_type": "stream",
     "name": "stdout",
     "text": [
      "Above than 10\nand also above than 20\nand also above than 30\nless than 40\n"
     ]
    }
   ],
   "source": [
    "x= 39\n",
    "\n",
    "if x>10:\n",
    "    print('Above than 10')\n",
    "    if x>20:\n",
    "        print('and also above than 20')\n",
    "        if x>30:\n",
    "            print('and also above than 30')\n",
    "            if x>40:\n",
    "                print('and also above than 40')\n",
    "            else:\n",
    "                print('less than 40')\n",
    "        else:\n",
    "            print('less than 30')    \n",
    "    else:\n",
    "        print('less than 20')    \n",
    "else:\n",
    "    print('less than 10')    "
   ]
  },
  {
   "cell_type": "code",
   "execution_count": 70,
   "metadata": {},
   "outputs": [],
   "source": [
    "#Create an iterator that returns numbers, starting with 1, and each sequence will increase by one (returning 1,2,3,4,5 etc.):\n",
    "\n",
    "class Mynumbers:\n",
    "    def __iter__(self):\n",
    "        self.a = 1\n",
    "        return self\n",
    "    def __next__(self):\n",
    "        x = self.a\n",
    "        self.a += 1\n",
    "        return x   \n",
    "myclass = Mynumbers()       \n",
    "myiter = iter(myclass)         "
   ]
  },
  {
   "cell_type": "code",
   "execution_count": 71,
   "metadata": {},
   "outputs": [
    {
     "output_type": "stream",
     "name": "stdout",
     "text": [
      "1\n2\n3\n4\n5\n"
     ]
    }
   ],
   "source": [
    "print(next(myiter))\n",
    "print(next(myiter))\n",
    "print(next(myiter))\n",
    "print(next(myiter))\n",
    "print(next(myiter))"
   ]
  },
  {
   "cell_type": "code",
   "execution_count": null,
   "metadata": {},
   "outputs": [],
   "source": []
  },
  {
   "cell_type": "code",
   "execution_count": null,
   "metadata": {},
   "outputs": [],
   "source": []
  }
 ]
}